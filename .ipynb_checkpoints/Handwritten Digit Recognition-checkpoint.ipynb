{
 "cells": [
  {
   "cell_type": "markdown",
   "metadata": {},
   "source": [
    "# Section 1 - Reading From Dataset\n",
    "First and foremost, we'll need a dataset to train your model because it's virtually impossible to complete a machine-learning project without one, right? :) We can easily read the dataset thanks to [Hossein Zaredar](https://github.com/HosseinZaredar/Computational-Intelligence/blob/main/read_MNIST.py)'s help"
   ]
  },
  {
   "cell_type": "code",
   "execution_count": null,
   "metadata": {},
   "outputs": [],
   "source": [
    "import numpy as np\n",
    "import matplotlib.pyplot as plt\n",
    "\n",
    "NUMBER_OF_PIXELS = 784"
   ]
  },
  {
   "cell_type": "markdown",
   "metadata": {},
   "source": [
    "To read from the files, we construct a function named `read_from_file` that does nothing but that.We know where to look for each data based on the information given by MNIST"
   ]
  },
  {
   "cell_type": "code",
   "execution_count": 2,
   "metadata": {},
   "outputs": [],
   "source": [
    "def read_from_file(image_address, label_address):\n",
    "    images_file = open(image_address, 'rb')\n",
    "    images_file.seek(4)  # Positions the cursor to the 4th byte.\n",
    "    number_of_images = int.from_bytes(images_file.read(4), 'big')  # reads 4 bytes in big endian order\n",
    "    images_file.seek(16)  # Positions the cursor to the 16th byte.\n",
    "    \n",
    "    labels_file = open(label_address, 'rb')\n",
    "    labels_file.seek(8)\n",
    "    \n",
    "    result_set = []\n",
    "    for n in range(number_of_images):\n",
    "        image = np.zeros((NUMBER_OF_PIXELS, 1))\n",
    "        for i in range(NUMBER_OF_PIXELS):\n",
    "            image[i, 0] = int.from_bytes(images_file.read(1), 'big') / 255\n",
    "\n",
    "        label_value = int.from_bytes(labels_file.read(1), 'big')\n",
    "        label = np.zeros((10, 1))  # Since we have 10 numbers from 0 to 9\n",
    "        label[label_value, 0] = 1\n",
    "\n",
    "        result_set.append((image, label))\n",
    "    \n",
    "    return result_set"
   ]
  },
  {
   "cell_type": "markdown",
   "metadata": {},
   "source": [
    "then we call that function to create our train & test set"
   ]
  },
  {
   "cell_type": "code",
   "execution_count": 3,
   "metadata": {},
   "outputs": [],
   "source": [
    "train_set = read_from_file(\"train-images.idx3-ubyte\", \"train-labels.idx1-ubyte\")\n",
    "test_set = read_from_file(\"t10k-images.idx3-ubyte\", \"t10k-labels.idx1-ubyte\")"
   ]
  },
  {
   "cell_type": "markdown",
   "metadata": {},
   "source": [
    "At the end of this section, we plot an image just to make sure we've done this part rightly."
   ]
  },
  {
   "cell_type": "code",
   "execution_count": 4,
   "metadata": {},
   "outputs": [
    {
     "data": {
      "text/plain": [
       "array([[0.],\n",
       "       [0.],\n",
       "       [0.],\n",
       "       [0.],\n",
       "       [0.],\n",
       "       [1.],\n",
       "       [0.],\n",
       "       [0.],\n",
       "       [0.],\n",
       "       [0.]])"
      ]
     },
     "execution_count": 4,
     "metadata": {},
     "output_type": "execute_result"
    },
    {
     "data": {
      "image/png": "[encoded data removed]",
      "text/plain": [
       "<Figure size 432x288 with 1 Axes>"
      ]
     },
     "metadata": {
      "needs_background": "light"
     },
     "output_type": "display_data"
    }
   ],
   "source": [
    "plt.imshow(train_set[0][0].reshape(28, -1), 'gray')\n",
    "train_set[0][1]"
   ]
  },
  {
   "cell_type": "markdown",
   "metadata": {},
   "source": [
    "# Section 2 - Feedforward\n",
    "As we all know, in order to calculate output in a neural network based on inputs, we must apply the following formula on each layer:  \n",
    "$$a^{(L+1)} = \\sigma(W^{(L+1)}× a^{(L)} + b^{(L+1)})$$\n",
    "\n",
    "Therefore in implementation, for weights between layers, we assign a k×n matrix. Assume \"k\" is the number of neurons on the next layer, and \"n\" is the number of neurons on the current layer. As a result, the weights of a single neuron on the next layer are shown in each row of our matrix W."
   ]
  },
  {
   "cell_type": "code",
   "execution_count": 5,
   "metadata": {},
   "outputs": [],
   "source": [
    "# Allocate W matrix and vector b for each layer.\n",
    "\n",
    "# Initialize W from standard normal distribution\n",
    "W1 = np.random.normal(size=(16, NUMBER_OF_PIXELS))\n",
    "W2 = np.random.normal(size=(16, 16))\n",
    "W3 = np.random.normal(size=(10, 16))\n",
    "\n",
    "# Initialize b = 0, for each layer.\n",
    "b1 = np.zeros((16, 1))\n",
    "b2 = np.zeros((16, 1))\n",
    "b3 = np.zeros((10, 1))"
   ]
  },
  {
   "cell_type": "code",
   "execution_count": 6,
   "metadata": {},
   "outputs": [],
   "source": [
    "def sigmoid(x):\n",
    "    return 1 / (1 + np.exp(-x))"
   ]
  },
  {
   "cell_type": "markdown",
   "metadata": {},
   "source": [
    "At this step of this project, after initializing W matrices and bias vectors, we separate the first 100 images of our train dataset and calculate the output of that based on the given formula.\n",
    "\n",
    "In the end, we report the accuracy, which is the number of true estimations divided by the number of images (which is 100 in our scenario). Regarding that the learning process has not proceeded, we expect to have an accuracy of around 10%."
   ]
  },
  {
   "cell_type": "code",
   "execution_count": 7,
   "metadata": {},
   "outputs": [
    {
     "name": "stdout",
     "output_type": "stream",
     "text": [
      "Accuracy: 0.09\n"
     ]
    }
   ],
   "source": [
    "number_of_correct_estimations = 0\n",
    "total_numbers = 100\n",
    "\n",
    "for train_data in train_set[:total_numbers]:\n",
    "    a0 = train_data[0]\n",
    "    a1 = sigmoid(W1 @ a0 + b1)\n",
    "    a2 = sigmoid(W2 @ a1 + b2)\n",
    "    a3 = sigmoid(W3 @ a2 + b3)\n",
    "    \n",
    "    predicted_number = np.where(a3 == np.amax(a3))\n",
    "    real_number = np.where(train_data[1] == np.amax(train_data[1]))\n",
    "    \n",
    "    if predicted_number == real_number:\n",
    "        number_of_correct_estimations += 1\n",
    "\n",
    "print(f\"Accuracy: {number_of_correct_estimations / total_numbers}\")"
   ]
  },
  {
   "cell_type": "markdown",
   "metadata": {},
   "source": [
    "## Section 3 - Backpropagation\n",
    "![Layers](Layers.jpg)\n",
    "As we know, the learning process in a neural network is equivalent to minimize the cost function  \n",
    "$$Cost =\\sum_{j=0}^{n_{L} - 1} (a_{j}^{(L)} - y_{j})^2$$\n",
    "That is done with the help of Gradient Descent. To do that, we take a partial derivative of the cost function with respect to all the parameters to make the Gradient vector.\n",
    "$$(W, b) = (W, b) - \\alpha\\nabla Cost$$\n",
    "We take the derivatives with the help of backpropagation."
   ]
  },
  {
   "cell_type": "code",
   "execution_count": 8,
   "metadata": {},
   "outputs": [],
   "source": [
    "# Hyperparameters\n",
    "batch_size = 10\n",
    "learning_rate = 1\n",
    "number_of_epochs = 20"
   ]
  },
  {
   "cell_type": "markdown",
   "metadata": {},
   "source": [
    "### How to use backpropagation?\n",
    "Regarding we have four layers (one input layer, one output layer, and two hidden layers), if we want to use backpropagation, at first, we have to define what we are dealing with.  \n",
    "Let us suppose we name our layers from 0 to 3, then we have:\n",
    "$$Cost =\\sum_{j=0}^{9} (a_{j}^{(L)} - y_{j})^2$$\n",
    "Each neuron at the last layer is equal to:\n",
    "$$a_{j}^{(3)} = \\sigma(z_{j}^{(3)})$$\n",
    "And $z_{j}^{(3)}$ is equal to:\n",
    "$$z_{j}^{(3)} = \\sum_{j=0}^{9} w_{jk}^{(3)}a_{k}^{(2)} + b_{j}^{(2)}$$\n",
    "### The last layer\n",
    "##### Weight\n",
    "If we apply the chain rule, we can reach to the following formula:  \n",
    "$$\\displaystyle \\frac{\\partial Cost}{\\partial w_{jk}^{(3)}} = \\displaystyle \\frac{\\partial Cost}{\\partial a_{j}^{(3)}} × \\displaystyle \\frac{\\partial a_{j}^{(3)}}{\\partial z_{j}^{(3)}} × \\displaystyle \\frac{\\partial z_{j}^{(3)}}{\\partial w_{jk}^{(3)}} $$\n",
    "\n",
    "$$\\displaystyle \\frac{\\partial Cost}{\\partial w_{jk}^{(3)}} = 2(a_{j}^{(3)} - y_{j}) × \\sigma^{'}(z_{j}^{(3)})×a_{k}^{(2)}$$\n",
    "\n",
    "##### Bias\n",
    "$$\\displaystyle \\frac{\\partial Cost}{\\partial b_{j}^{(3)}} = \\displaystyle \\frac{\\partial Cost}{\\partial a_{j}^{(3)}} × \\displaystyle \\frac{\\partial a_{j}^{(3)}}{\\partial z_{j}^{(3)}} × \\displaystyle \\frac{\\partial z_{j}^{(3)}}{\\partial b_{j}^{(3)}} $$\n",
    "\n",
    "$$\\displaystyle \\frac{\\partial Cost}{\\partial b_{j}^{(3)}} = 2(a_{j}^{(3)} - y_{j}) × \\sigma^{'}(z_{j}^{(3)})× 1$$\n",
    "\n",
    "##### Activation\n",
    "We also need to calculate partial derivatives with respect to the activation output of the previous layer. It helps us for backpropagation as we see further.  \n",
    "$$\\displaystyle \\frac{\\partial Cost}{\\partial a_{k}^{(2)}} = \\sum_{j=0}^{9} \\displaystyle \\frac{\\partial Cost}{\\partial a_{j}^{(3)}} × \\displaystyle \\frac{\\partial a_{j}^{(3)}}{\\partial z_{j}^{(3)}} × \\displaystyle \\frac{\\partial z_{j}^{(3)}}{\\partial a_{k}^{(2)}} $$\n",
    "\n",
    "$$\\displaystyle \\frac{\\partial Cost}{\\partial a_{k}^{(2)}} = \\sum_{j=0}^{9} (2(a_{j}^{(3)} - y_{j}) × \\sigma^{'}(z_{j}^{(3)})× w_{jk}^{(3)}) $$\n",
    "\n",
    "### 3rd layer\n",
    "##### Weight\n",
    "$$\\displaystyle \\frac{\\partial Cost}{\\partial w_{km}^{(2)}} = \\displaystyle \\frac{\\partial Cost}{\\partial a_{k}^{(2)}} × \\displaystyle \\frac{\\partial a_{k}^{(2)}}{\\partial z_{k}^{(2)}} × \\displaystyle \\frac{\\partial z_{k}^{(2)}}{\\partial w_{km}^{(2)}} $$\n",
    "\n",
    "$$\\displaystyle \\frac{\\partial Cost}{\\partial w_{km}^{(2)}} =  \\displaystyle \\frac{\\partial Cost}{\\partial a_{k}^{(2)}} × \\sigma^{'}(z_{k}^{(2)})×a_{m}^{(1)}$$\n",
    "\n",
    "##### Bias\n",
    "$$\\displaystyle \\frac{\\partial Cost}{\\partial b_{k}^{(2)}} = \\displaystyle \\frac{\\partial Cost}{\\partial a_{k}^{(2)}} × \\displaystyle \\frac{\\partial a_{k}^{(2)}}{\\partial z_{k}^{(2)}} × \\displaystyle \\frac{\\partial z_{k}^{(2)}}{\\partial b_{k}^{(2)}} $$\n",
    "\n",
    "$$\\displaystyle \\frac{\\partial Cost}{\\partial b_{k}^{(2)}} = \\displaystyle \\frac{\\partial Cost}{\\partial a_{k}^{(2)}} × \\sigma^{'}(z_{k}^{(2)})× 1$$\n",
    "\n",
    "##### Activation\n",
    "$$\\displaystyle \\frac{\\partial Cost}{\\partial a_{m}^{(1)}} = \\sum_{k=0}^{15} \\displaystyle \\frac{\\partial Cost}{\\partial a_{k}^{(2)}} × \\displaystyle \\frac{\\partial a_{k}^{(2)}}{\\partial z_{k}^{(2)}} × \\displaystyle \\frac{\\partial z_{k}^{(2)}}{\\partial a_{m}^{(1)}} $$\n",
    "\n",
    "$$\\displaystyle \\frac{\\partial Cost}{\\partial a_{m}^{(1)}} = \\sum_{k=0}^{15} (\\displaystyle \\frac{\\partial Cost}{\\partial a_{k}^{(2)}} × \\sigma^{'}(z_{k}^{(2)})× w_{km}^{(2)}) $$\n",
    "\n",
    "### 2nd layer\n",
    "##### Weight\n",
    "$$\\displaystyle \\frac{\\partial Cost}{\\partial w_{mv}^{(1)}} = \\displaystyle \\frac{\\partial Cost}{\\partial a_{m}^{(1)}} × \\displaystyle \\frac{\\partial a_{m}^{(1)}}{\\partial z_{m}^{(1)}} × \\displaystyle \\frac{\\partial z_{m}^{(1)}}{\\partial w_{mv}^{(1)}} $$\n",
    "\n",
    "$$\\displaystyle \\frac{\\partial Cost}{\\partial w_{mv}^{(1)}} =  \\displaystyle \\frac{\\partial Cost}{\\partial a_{m}^{(1)}} × \\sigma^{'}(z_{m}^{(1)})×a_{v}^{(0)}$$\n",
    "\n",
    "##### Bias\n",
    "$$\\displaystyle \\frac{\\partial Cost}{\\partial b_{m}^{(1)}} = \\displaystyle \\frac{\\partial Cost}{\\partial a_{m}^{(1)}} × \\displaystyle \\frac{\\partial a_{m}^{(1)}}{\\partial z_{m}^{(1)}} × \\displaystyle \\frac{\\partial z_{m}^{(1)}}{\\partial b_{m}^{(1)}} $$\n",
    "\n",
    "$$\\displaystyle \\frac{\\partial Cost}{\\partial b_{m}^{(1)}} = \\displaystyle \\frac{\\partial Cost}{\\partial a_{m}^{(1)}} × \\sigma^{'}(z_{m}^{(1)})× 1$$"
   ]
  },
  {
   "cell_type": "code",
   "execution_count": 9,
   "metadata": {},
   "outputs": [
    {
     "name": "stdout",
     "output_type": "stream",
     "text": [
      "Wall time: 59.2 s\n"
     ]
    }
   ],
   "source": [
    "%%time\n",
    "total_costs = []\n",
    "# Initialize W with random normal distribution for each layer.\n",
    "W1 = np.random.normal(size=(16, NUMBER_OF_PIXELS))\n",
    "W2 = np.random.normal(size=(16, 16))\n",
    "W3 = np.random.normal(size=(10, 16))\n",
    "\n",
    "# Initialize b = 0, for each layer.\n",
    "b1 = np.zeros((16, 1))\n",
    "b2 = np.zeros((16, 1))\n",
    "b3 = np.zeros((10, 1))\n",
    "\n",
    "for epoch in range(number_of_epochs):\n",
    "    batches = [train_set[x:x+batch_size] for x in range(0, 100, batch_size)]\n",
    "    for batch in batches:\n",
    "        # allocate grad_W matrix for each layer\n",
    "        grad_W1 = np.zeros((16, NUMBER_OF_PIXELS))\n",
    "        grad_W2 = np.zeros((16, 16))\n",
    "        grad_W3 = np.zeros((10, 16))\n",
    "        # allocate grad_b for each layer\n",
    "        grad_b1 = np.zeros((16, 1))\n",
    "        grad_b2 = np.zeros((16, 1))\n",
    "        grad_b3 = np.zeros((10, 1))\n",
    "        \n",
    "        for image, label in batch:\n",
    "            # compute the output (image is equal to a0)\n",
    "            a1 = sigmoid(W1 @ image + b1)\n",
    "            a2 = sigmoid(W2 @ a1 + b2)\n",
    "            a3 = sigmoid(W3 @ a2 + b3)\n",
    "            \n",
    "            # ---- Last layer\n",
    "            # weight\n",
    "            for j in range(grad_W3.shape[0]):\n",
    "                for k in range(grad_W3.shape[1]):\n",
    "                    grad_W3[j, k] += 2 * (a3[j, 0] - label[j, 0]) * a3[j, 0] * (1 - a3[j, 0]) * a2[k, 0]\n",
    "            \n",
    "            # bias\n",
    "            for j in range(grad_b3.shape[0]):\n",
    "                    grad_b3[j, 0] += 2 * (a3[j, 0] - label[j, 0]) * a3[j, 0] * (1 - a3[j, 0])\n",
    "            \n",
    "            # ---- 3rd layer\n",
    "            # activation\n",
    "            delta_3 = np.zeros((16, 1))\n",
    "            for k in range(16):\n",
    "                for j in range(10):\n",
    "                    delta_3[k, 0] += 2 * (a3[j, 0] - label[j, 0]) * a3[j, 0] * (1 - a3[j, 0]) * W3[j, k]\n",
    "            \n",
    "            # weight\n",
    "            for k in range(grad_W2.shape[0]):\n",
    "                for m in range(grad_W2.shape[1]):\n",
    "                    grad_W2[k, m] += delta_3[k, 0] * a2[k,0] * (1 - a2[k, 0]) * a1[m, 0]\n",
    "            \n",
    "            # bias\n",
    "            for k in range(grad_b2.shape[0]):\n",
    "                    grad_b2[k, 0] += delta_3[k, 0] * a2[k, 0] * (1 - a2[k, 0])\n",
    "                    \n",
    "            # ---- 2nd layer\n",
    "            # activation\n",
    "            delta_2 = np.zeros((16, 1))\n",
    "            for m in range(16):\n",
    "                for k in range(16):\n",
    "                    delta_2[m, 0] += delta_3[k, 0] * a2[k, 0] * (1 - a2[k, 0]) * W2[k, m]\n",
    "            \n",
    "            # weight\n",
    "            for m in range(grad_W1.shape[0]):\n",
    "                for v in range(grad_W1.shape[1]):\n",
    "                    grad_W1[m, v] += delta_2[m, 0] * a1[m,0] * (1 - a1[m, 0]) * image[v, 0]\n",
    "                    \n",
    "            # bias\n",
    "            for m in range(grad_b1.shape[0]):\n",
    "                    grad_b1[m, 0] += delta_2[m, 0] * a1[m, 0] * (1 - a1[m, 0])\n",
    "        \n",
    "        W3 = W3 - (learning_rate * (grad_W3 / batch_size))\n",
    "        W2 = W2 - (learning_rate * (grad_W2 / batch_size))\n",
    "        W1 = W1 - (learning_rate * (grad_W1 / batch_size))\n",
    "        \n",
    "        b3 = b3 - (learning_rate * (grad_b3 / batch_size))\n",
    "        b2 = b2 - (learning_rate * (grad_b2 / batch_size))\n",
    "        b1 = b1 - (learning_rate * (grad_b1 / batch_size))\n",
    "    \n",
    "    # calculate cost average per epoch\n",
    "    cost = 0\n",
    "    for train_data in train_set[:100]:\n",
    "        a0 = train_data[0]\n",
    "        a1 = sigmoid(W1 @ a0 + b1)\n",
    "        a2 = sigmoid(W2 @ a1 + b2)\n",
    "        a3 = sigmoid(W3 @ a2 + b3)\n",
    "\n",
    "        for j in range(10):\n",
    "            cost += np.power((a3[j, 0] - train_data[1][j,  0]), 2)\n",
    "            \n",
    "    cost /= 100\n",
    "    total_costs.append(cost)    "
   ]
  },
  {
   "cell_type": "code",
   "execution_count": 10,
   "metadata": {},
   "outputs": [
    {
     "name": "stdout",
     "output_type": "stream",
     "text": [
      "Accuracy: 0.85\n"
     ]
    },
    {
     "data": {
      "image/png": "[encoded data removed]",
      "text/plain": [
       "<Figure size 432x288 with 1 Axes>"
      ]
     },
     "metadata": {
      "needs_background": "light"
     },
     "output_type": "display_data"
    }
   ],
   "source": [
    "epoch_size = [x for x in range(20)]\n",
    "plt.plot(epoch_size, total_costs)\n",
    "\n",
    "for train_data in train_set[:100]:\n",
    "    a0 = train_data[0]\n",
    "    a1 = sigmoid(W1 @ a0 + b1)\n",
    "    a2 = sigmoid(W2 @ a1 + b2)\n",
    "    a3 = sigmoid(W3 @ a2 + b3)\n",
    "    \n",
    "    predicted_number = np.where(a3 == np.amax(a3))\n",
    "    real_number = np.where(train_data[1] == np.amax(train_data[1]))\n",
    "    \n",
    "    if predicted_number == real_number:\n",
    "        number_of_correct_estimations += 1\n",
    "        \n",
    "print(f\"Accuracy: {number_of_correct_estimations / 100}\")"
   ]
  },
  {
   "cell_type": "markdown",
   "metadata": {},
   "source": [
    "# Section 4 - Vectorization\n",
    "Because of the long execution time, we've only dealt on 100 first pictures so far. We use vectorization to solve this problem. It implies that we use matrix operations instead of for loops to measure each entry of matrices separately.\n",
    "\n",
    "As a result, the processing time would be significantly reduced. The explanation for this is that matrix operations can run in parallel on multi-core CPUs. Furthermore, today's processors have instructions for working with large vector data, which will be much more effective.\n",
    "\n",
    "We have implemented the second section (Feedforward) in a vectorized way. Now we're attempting to do the same thing with backpropagation.\n",
    "___"
   ]
  },
  {
   "cell_type": "markdown",
   "metadata": {},
   "source": [
    "In vectorized notiation, we have:\n",
    "$$Cost =(\\overrightarrow{a}^{(3)} - \\overrightarrow{y})^{T}(\\overrightarrow{a}^{(3)} - \\overrightarrow{y})$$\n",
    "The activation vector at the last layer is equal to:\n",
    "$$\\overrightarrow{a}^{(3)} = \\sigma(\\overrightarrow{z}^{(3)})$$\n",
    "And $\\overrightarrow{z}^{(3)}$ is equal to:\n",
    "$$\\overrightarrow{z}^{(3)} = W^{(3)}\\overrightarrow{a}^{(2)} + \\overrightarrow{b}^{(2)}$$\n",
    "### The last layer\n",
    "##### Weight\n",
    "$$\\displaystyle \\frac{\\partial Cost}{\\partial W^{(3)}} = 2(\\overrightarrow{a}^{(3)} - \\overrightarrow{y})\\overrightarrow{a}^{(3)}(1 - \\overrightarrow{a}^{(3)}) \\bullet \\overrightarrow{a}^{(2)}$$\n",
    "##### Bias\n",
    "$$\\displaystyle \\frac{\\partial Cost}{\\partial \\overrightarrow{b}^{(3)}} = 2 (\\overrightarrow{a}^{(3)} - \\overrightarrow{y}) \\overrightarrow{a}^{(3)}(1 - \\overrightarrow{a}^{(3)})$$\n",
    "##### Activation\n",
    "$$\\displaystyle \\frac{\\partial Cost}{\\partial \\overrightarrow{a}^{(2)}} = {W_{3}^{T}} (2(\\overrightarrow{a}^{(3)} - \\overrightarrow{y}) \\overrightarrow{a}^{(3)}(1 - \\overrightarrow{a}^{(3)})) $$\n",
    "\n",
    "### 3rd Layer\n",
    "##### Weight\n",
    "$$\\displaystyle \\frac{\\partial Cost}{\\partial W^{(2)}} = \\displaystyle \\frac{\\partial Cost}{\\partial \\overrightarrow{a}^{(2)}}\\overrightarrow{a}^{(2)}(1 - \\overrightarrow{a}^{(2)}) \\bullet \\overrightarrow{a}^{(1)}$$\n",
    "##### Bias\n",
    "$$\\displaystyle \\frac{\\partial Cost}{\\partial \\overrightarrow{b}^{(2)}} = (\\displaystyle \\frac{\\partial Cost}{\\partial \\overrightarrow{a}^{(2)}})\\overrightarrow{a}^{(2)}(1 - \\overrightarrow{a}^{(2)})$$\n",
    "##### Activation \n",
    "$$\\displaystyle \\frac{\\partial Cost}{\\partial \\overrightarrow{a}^{(1)}} = {W_{2}^{T}} (\\displaystyle \\frac{\\partial Cost}{\\partial \\overrightarrow{a}^{(2)}}) \\overrightarrow{a}^{(2)}(1 - \\overrightarrow{a}^{(2)})) $$\n",
    "\n",
    "### 2nd\n",
    "##### Weight\n",
    "$$\\displaystyle \\frac{\\partial Cost}{\\partial W^{(1)}} = \\displaystyle \\frac{\\partial Cost}{\\partial \\overrightarrow{a}^{(1)}}\\overrightarrow{a}^{(1)}(1 - \\overrightarrow{a}^{(1)}) \\bullet \\overrightarrow{a}^{(0)}$$\n",
    "##### Bias\n",
    "$$\\displaystyle \\frac{\\partial Cost}{\\partial \\overrightarrow{b}^{(1)}} = (\\displaystyle \\frac{\\partial Cost}{\\partial \\overrightarrow{a}^{(1)}})\\overrightarrow{a}^{(1)}(1 - \\overrightarrow{a}^{(1)})$$"
   ]
  },
  {
   "cell_type": "code",
   "execution_count": 11,
   "metadata": {},
   "outputs": [],
   "source": [
    "# Allocate W matrix and vector b for each layer.\n",
    "\n",
    "# Initialize W with random normal distribution for each layer. \n",
    "W1 = np.random.normal(size=(16, NUMBER_OF_PIXELS))\n",
    "W2 = np.random.normal(size=(16, 16))\n",
    "W3 = np.random.normal(size=(10, 16))\n",
    "\n",
    "# Initialize b = 0, for each layer.\n",
    "b1 = np.zeros((16, 1))\n",
    "b2 = np.zeros((16, 1))\n",
    "b3 = np.zeros((10, 1))\n",
    "\n",
    "total_costs = []\n",
    "batches = [train_set[x:x+batch_size] for x in range(0, 100, batch_size)]\n",
    "for epoch in range(number_of_epochs):\n",
    "    for batch in batches:\n",
    "        # allocate grad_W matrix for each layer\n",
    "        grad_W1 = np.zeros((16, NUMBER_OF_PIXELS))\n",
    "        grad_W2 = np.zeros((16, 16))\n",
    "        grad_W3 = np.zeros((10, 16))\n",
    "        # allocate grad_b for each layer\n",
    "        grad_b1 = np.zeros((16, 1))\n",
    "        grad_b2 = np.zeros((16, 1))\n",
    "        grad_b3 = np.zeros((10, 1))\n",
    "        \n",
    "        for image, label in batch:\n",
    "            # compute the output (image is equal to a0)\n",
    "            a1 = sigmoid(W1 @ image + b1)\n",
    "            a2 = sigmoid(W2 @ a1 + b2)\n",
    "            a3 = sigmoid(W3 @ a2 + b3)\n",
    "            \n",
    "            # ---- Last layer\n",
    "            # weight\n",
    "            grad_W3 += (2 * (a3 - label) * a3 * (1 - a3)) @ np.transpose(a2)\n",
    "            \n",
    "            # bias\n",
    "            grad_b3 += 2 * (a3 - label) * a3 * (1 - a3)\n",
    "            \n",
    "            # ---- 3rd layer\n",
    "            # activation\n",
    "            delta_3 = np.zeros((16, 1))\n",
    "            delta_3 += np.transpose(W3) @ (2 *(a3 - label) * (a3 * (1 - a3)))\n",
    "            \n",
    "            # weight\n",
    "            grad_W2 += (a2 * (1 - a2) * delta_3) @ np.transpose(a1)\n",
    "            \n",
    "            # bias\n",
    "            grad_b2 += delta_3 * a2 * (1 - a2)\n",
    "                    \n",
    "            # ---- 2nd layer\n",
    "            # activation\n",
    "            delta_2 = np.zeros((16, 1))\n",
    "            delta_2 += np.transpose(W2) @ delta_3 * a2 * (1 - a2)\n",
    "            \n",
    "            # weight\n",
    "            grad_W1 += (delta_2 * a1 * (1 - a1)) @ np.transpose(image)\n",
    "                    \n",
    "            # bias\n",
    "            grad_b1 += delta_2 * a1 * (1 - a1)\n",
    "        \n",
    "        W3 = W3 - (learning_rate * (grad_W3 / batch_size))\n",
    "        W2 = W2 - (learning_rate * (grad_W2 / batch_size))\n",
    "        W1 = W1 - (learning_rate * (grad_W1 / batch_size))\n",
    "        \n",
    "        b3 = b3 - (learning_rate * (grad_b3 / batch_size))\n",
    "        b2 = b2 - (learning_rate * (grad_b2 / batch_size))\n",
    "        b1 = b1 - (learning_rate * (grad_b1 / batch_size))\n",
    "    \n",
    "    # calculate cost average per epoch\n",
    "    cost = 0\n",
    "    for train_data in train_set[:100]:\n",
    "        a0 = train_data[0]\n",
    "        a1 = sigmoid(W1 @ a0 + b1)\n",
    "        a2 = sigmoid(W2 @ a1 + b2)\n",
    "        a3 = sigmoid(W3 @ a2 + b3)\n",
    "\n",
    "        for j in range(10):\n",
    "            cost += np.power((a3[j, 0] - train_data[1][j,  0]), 2)\n",
    "            \n",
    "    cost /= 100\n",
    "    total_costs.append(cost)    "
   ]
  },
  {
   "cell_type": "code",
   "execution_count": 12,
   "metadata": {},
   "outputs": [
    {
     "name": "stdout",
     "output_type": "stream",
     "text": [
      "Accuracy: 0.7\n"
     ]
    },
    {
     "data": {
      "image/png": "[encoded data removed]",
      "text/plain": [
       "<Figure size 432x288 with 1 Axes>"
      ]
     },
     "metadata": {
      "needs_background": "light"
     },
     "output_type": "display_data"
    }
   ],
   "source": [
    "epoch_size = [x for x in range(number_of_epochs)]\n",
    "plt.plot(epoch_size, total_costs)\n",
    "number_of_correct_estimations = 0\n",
    "for train_data in train_set[:100]:\n",
    "    a0 = train_data[0]\n",
    "    a1 = sigmoid(W1 @ a0 + b1)\n",
    "    a2 = sigmoid(W2 @ a1 + b2)\n",
    "    a3 = sigmoid(W3 @ a2 + b3)\n",
    "    \n",
    "    predicted_number = np.where(a3 == np.amax(a3))\n",
    "    real_number = np.where(train_data[1] == np.amax(train_data[1]))\n",
    "    \n",
    "    if predicted_number == real_number:\n",
    "        number_of_correct_estimations += 1\n",
    "        \n",
    "print(f\"Accuracy: {number_of_correct_estimations / 100}\")"
   ]
  },
  {
   "cell_type": "markdown",
   "metadata": {},
   "source": [
    "# Section 5 - Testing the model\n",
    "We use all of our data (60k images) to learn our model now that we've optimized our implementation. Finally, we measure the model's accuracy using test results."
   ]
  },
  {
   "cell_type": "code",
   "execution_count": 13,
   "metadata": {},
   "outputs": [],
   "source": [
    "batch_size = 50\n",
    "learning_rate = 1\n",
    "number_of_epochs = 5"
   ]
  },
  {
   "cell_type": "code",
   "execution_count": 14,
   "metadata": {},
   "outputs": [],
   "source": [
    "total_costs = []\n",
    "# Initialize W with random normal distribution for each layer.\n",
    "W1 = np.random.normal(size=(16, NUMBER_OF_PIXELS))\n",
    "W2 = np.random.normal(size=(16, 16))\n",
    "W3 = np.random.normal(size=(10, 16))\n",
    "\n",
    "# Initialize b = 0, for each layer.\n",
    "b1 = np.zeros((16, 1))\n",
    "b2 = np.zeros((16, 1))\n",
    "b3 = np.zeros((10, 1))\n",
    "\n",
    "for epoch in range(number_of_epochs):\n",
    "    np.random.shuffle(train_set)\n",
    "    batches = [train_set[x:x+batch_size] for x in range(0, len(train_set), batch_size)]\n",
    "    for batch in batches:\n",
    "        # allocate grad_W matrix for each layer\n",
    "        grad_W1 = np.zeros((16, NUMBER_OF_PIXELS))\n",
    "        grad_W2 = np.zeros((16, 16))\n",
    "        grad_W3 = np.zeros((10, 16))\n",
    "        # allocate grad_b for each layer\n",
    "        grad_b1 = np.zeros((16, 1))\n",
    "        grad_b2 = np.zeros((16, 1))\n",
    "        grad_b3 = np.zeros((10, 1))\n",
    "        \n",
    "        for image, label in batch:\n",
    "            # compute the output (image is equal to a0)\n",
    "            a1 = sigmoid(W1 @ image + b1)\n",
    "            a2 = sigmoid(W2 @ a1 + b2)\n",
    "            a3 = sigmoid(W3 @ a2 + b3)\n",
    "            \n",
    "            # ---- Last layer\n",
    "            # weight\n",
    "            grad_W3 += (2 * (a3 - label) * a3 * (1 - a3)) @ np.transpose(a2)\n",
    "            \n",
    "            # bias\n",
    "            grad_b3 += 2 * (a3 - label) * a3 * (1 - a3)\n",
    "            \n",
    "            # ---- 3rd layer\n",
    "            # activation\n",
    "            delta_3 = np.zeros((16, 1))\n",
    "            delta_3 += np.transpose(W3) @ (2 *(a3 - label) * (a3 * (1 - a3)))\n",
    "            \n",
    "            # weight\n",
    "            grad_W2 += (a2 * (1 - a2) * delta_3) @ np.transpose(a1)\n",
    "            \n",
    "            # bias\n",
    "            grad_b2 += delta_3 * a2 * (1 - a2)\n",
    "                    \n",
    "            # ---- 2nd layer\n",
    "            # activation\n",
    "            delta_2 = np.zeros((16, 1))\n",
    "            delta_2 += np.transpose(W2) @ delta_3 * a2 * (1 - a2)\n",
    "            \n",
    "            # weight\n",
    "            grad_W1 += (delta_2 * a1 * (1 - a1)) @ np.transpose(image)\n",
    "                    \n",
    "            # bias\n",
    "            grad_b1 += delta_2 * a1 * (1 - a1)\n",
    "        \n",
    "        W3 = W3 - (learning_rate * (grad_W3 / batch_size))\n",
    "        W2 = W2 - (learning_rate * (grad_W2 / batch_size))\n",
    "        W1 = W1 - (learning_rate * (grad_W1 / batch_size))\n",
    "        \n",
    "        b3 = b3 - (learning_rate * (grad_b3 / batch_size))\n",
    "        b2 = b2 - (learning_rate * (grad_b2 / batch_size))\n",
    "        b1 = b1 - (learning_rate * (grad_b1 / batch_size))\n",
    "    \n",
    "    # calculate cost average per epoch\n",
    "    cost = 0\n",
    "    for train_data in train_set[:100]:\n",
    "        a0 = train_data[0]\n",
    "        a1 = sigmoid(W1 @ a0 + b1)\n",
    "        a2 = sigmoid(W2 @ a1 + b2)\n",
    "        a3 = sigmoid(W3 @ a2 + b3)\n",
    "\n",
    "        for j in range(10):\n",
    "            cost += np.power((a3[j, 0] - train_data[1][j,  0]), 2)\n",
    "            \n",
    "    cost /= 100\n",
    "    total_costs.append(cost)    "
   ]
  },
  {
   "cell_type": "code",
   "execution_count": 16,
   "metadata": {},
   "outputs": [
    {
     "name": "stdout",
     "output_type": "stream",
     "text": [
      "Accuracy: 89.19\n"
     ]
    },
    {
     "data": {
      "image/png": "[encoded data removed]",
      "text/plain": [
       "<Figure size 432x288 with 1 Axes>"
      ]
     },
     "metadata": {
      "needs_background": "light"
     },
     "output_type": "display_data"
    }
   ],
   "source": [
    "epoch_size = [x for x in range(number_of_epochs)]\n",
    "plt.plot(epoch_size, total_costs)\n",
    "number_of_correct_estimations = 0\n",
    "for test_data in test_set:\n",
    "    a0 = test_data[0]\n",
    "    a1 = sigmoid(W1 @ a0 + b1)\n",
    "    a2 = sigmoid(W2 @ a1 + b2)\n",
    "    a3 = sigmoid(W3 @ a2 + b3)\n",
    "    \n",
    "    predicted_number = np.where(a3 == np.amax(a3))\n",
    "    real_number = np.where(test_data[1] == np.amax(test_data[1]))\n",
    "    \n",
    "    if predicted_number == real_number:\n",
    "        number_of_correct_estimations += 1\n",
    "        \n",
    "print(f\"Accuracy: {number_of_correct_estimations / 100}\")"
   ]
  },
  {
   "cell_type": "code",
   "execution_count": null,
   "metadata": {},
   "outputs": [],
   "source": []
  }
 ],
 "metadata": {
  "kernelspec": {
   "display_name": "Python 3",
   "language": "python",
   "name": "python3"
  },
  "language_info": {
   "codemirror_mode": {
    "name": "ipython",
    "version": 3
   },
   "file_extension": ".py",
   "mimetype": "text/x-python",
   "name": "python",
   "nbconvert_exporter": "python",
   "pygments_lexer": "ipython3",
   "version": "3.8.5"
  }
 },
 "nbformat": 4,
 "nbformat_minor": 4
}
